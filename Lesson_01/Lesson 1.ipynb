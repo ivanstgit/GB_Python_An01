{
 "cells": [
  {
   "cell_type": "markdown",
   "id": "5c42af58",
   "metadata": {},
   "source": [
    "## Задача 1"
   ]
  },
  {
   "cell_type": "markdown",
   "id": "02551cdf",
   "metadata": {},
   "source": [
    "На складе лежат разные фрукты в разном количестве.\n",
    "Нужно написать функцию, которая на вход принимает любое количество названий фруктов и их количество, а возвращает общее количество фруктов на складе"
   ]
  },
  {
   "cell_type": "code",
   "execution_count": 2,
   "id": "840bb053",
   "metadata": {},
   "outputs": [
    {
     "data": {
      "text/plain": [
       "51"
      ]
     },
     "execution_count": 2,
     "metadata": {},
     "output_type": "execute_result"
    }
   ],
   "source": [
    "def calc_total_stock(positions: dict) -> float:\n",
    "    return sum(positions.values())\n",
    "\n",
    "fruit_stocks = {'apple': 5,\n",
    "               'pineapple': 3,\n",
    "               'banana': 43}\n",
    "calc_total_stock(fruit_stocks)"
   ]
  },
  {
   "cell_type": "markdown",
   "id": "9020e6f5",
   "metadata": {},
   "source": [
    "## Задача 2"
   ]
  },
  {
   "cell_type": "markdown",
   "id": "46f0c909",
   "metadata": {},
   "source": [
    "Дан список с затратами на рекламу:"
   ]
  },
  {
   "cell_type": "code",
   "execution_count": 4,
   "id": "2e03b88b",
   "metadata": {},
   "outputs": [],
   "source": [
    "costs = [100, 125, -90, 345, 655, -1, 0, 200]"
   ]
  },
  {
   "cell_type": "markdown",
   "id": "7c2f3c8a",
   "metadata": {},
   "source": [
    "Но в данных есть ошибки, некоторые затраты имеют отрицательную величину. Удалите такие значения из списка и посчитайте суммарные затраты. Используйте list comprehensions"
   ]
  },
  {
   "cell_type": "code",
   "execution_count": 7,
   "id": "eb3da64a",
   "metadata": {},
   "outputs": [
    {
     "data": {
      "text/plain": [
       "1425"
      ]
     },
     "execution_count": 7,
     "metadata": {},
     "output_type": "execute_result"
    }
   ],
   "source": [
    "sum([cost for cost in costs if cost > 0 ])"
   ]
  },
  {
   "cell_type": "markdown",
   "id": "45c1580a",
   "metadata": {},
   "source": [
    "## Задача 3"
   ]
  },
  {
   "cell_type": "markdown",
   "id": "66c13642",
   "metadata": {},
   "source": [
    "Даны два списка. <br>\n",
    "- Дата покупки:"
   ]
  },
  {
   "cell_type": "code",
   "execution_count": 11,
   "id": "56da0b1d",
   "metadata": {},
   "outputs": [],
   "source": [
    "pur_dates = ['2021-09-14', '2021-12-15', '2021-09-08', '2021-12-05', '2021-10-09', '2021-09-30', '2021-12-22', '2021-11-29', '2021-12-24', '2021-11-26', '2021-10-27', '2021-12-18', '2021-11-09', '2021-11-23', '2021-09-27', '2021-10-02', '2021-12-27', '2021-09-20', '2021-12-13', '2021-11-01', '2021-11-09', '2021-12-06', '2021-12-08', '2021-10-09', '2021-10-31', '2021-09-30', '2021-11-09', '2021-12-13', '2021-10-26', '2021-12-09']"
   ]
  },
  {
   "cell_type": "markdown",
   "id": "741ee3ba",
   "metadata": {},
   "source": [
    "- Суммы покупок по датам:"
   ]
  },
  {
   "cell_type": "code",
   "execution_count": 13,
   "id": "9b67e938",
   "metadata": {},
   "outputs": [],
   "source": [
    "pur_amounts = [1270, 8413, 9028, 3703, 5739, 4095, 295, 4944, 5723, 3701, 4471, 651, 7037, 4274, 6275, 4988, 6930, 2971, 6592, 2004, 2822, 519, 3406, 2732, 5015, 2008, 316, 6333, 5700, 2887]"
   ]
  },
  {
   "cell_type": "markdown",
   "id": "c5c094c3",
   "metadata": {},
   "source": [
    "### Подзадача 3.1"
   ]
  },
  {
   "cell_type": "markdown",
   "id": "a9a6ec73",
   "metadata": {},
   "source": [
    "Найдите, какая выручка у компании в ноябре<br>\n",
    "Используйте list comprehensions"
   ]
  },
  {
   "cell_type": "code",
   "execution_count": 17,
   "id": "167469c6",
   "metadata": {},
   "outputs": [
    {
     "data": {
      "text/plain": [
       "25098"
      ]
     },
     "execution_count": 17,
     "metadata": {},
     "output_type": "execute_result"
    }
   ],
   "source": [
    "sum([amount for date, amount in zip(pur_dates, pur_amounts) if date > '2021-10-31' and date < '2021-12-01'])"
   ]
  },
  {
   "cell_type": "markdown",
   "id": "635eaf01",
   "metadata": {},
   "source": [
    "### Подзадача 3.2"
   ]
  },
  {
   "cell_type": "markdown",
   "id": "d3f9cdff",
   "metadata": {},
   "source": [
    "Найдите выручку компании в зависимости от месяца <br>\n",
    "Для этого напишите функцию, которая на вход принимает список с датами и список с выручкой, а на выходе словарь, где ключи - это месяцы, а значения - это выручка.\n",
    "Используйте аннотирование типов."
   ]
  },
  {
   "cell_type": "code",
   "execution_count": 23,
   "id": "7a4ba42b",
   "metadata": {},
   "outputs": [],
   "source": [
    "def calc_revenue_by_month(dates: list, amounts: list) -> dict:\n",
    "    return { i: sum([amount for date, amount in zip(pur_dates, pur_amounts) if int(date[5:7]) == i ])\n",
    "           for i in range(1,13) }"
   ]
  },
  {
   "cell_type": "code",
   "execution_count": 24,
   "id": "826e8fa8",
   "metadata": {},
   "outputs": [
    {
     "data": {
      "text/plain": [
       "{1: 0,\n",
       " 2: 0,\n",
       " 3: 0,\n",
       " 4: 0,\n",
       " 5: 0,\n",
       " 6: 0,\n",
       " 7: 0,\n",
       " 8: 0,\n",
       " 9: 25647,\n",
       " 10: 28645,\n",
       " 11: 25098,\n",
       " 12: 45452}"
      ]
     },
     "execution_count": 24,
     "metadata": {},
     "output_type": "execute_result"
    }
   ],
   "source": [
    "calc_revenue_by_month(pur_dates, pur_amounts)"
   ]
  }
 ],
 "metadata": {
  "kernelspec": {
   "display_name": "Python 3 (ipykernel)",
   "language": "python",
   "name": "python3"
  },
  "language_info": {
   "codemirror_mode": {
    "name": "ipython",
    "version": 3
   },
   "file_extension": ".py",
   "mimetype": "text/x-python",
   "name": "python",
   "nbconvert_exporter": "python",
   "pygments_lexer": "ipython3",
   "version": "3.10.6"
  }
 },
 "nbformat": 4,
 "nbformat_minor": 5
}
